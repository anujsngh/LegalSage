{
 "cells": [
  {
   "cell_type": "code",
   "execution_count": 2,
   "id": "68613788",
   "metadata": {},
   "outputs": [],
   "source": [
    "from playsound import playsound\n",
    "from plyer import notification"
   ]
  },
  {
   "cell_type": "code",
   "execution_count": 8,
   "id": "5eaddd68",
   "metadata": {},
   "outputs": [],
   "source": [
    "notification.notify(title='Title', message='Message')\n",
    "playsound('legal_search_ai/data/alert.wav')"
   ]
  },
  {
   "cell_type": "code",
   "execution_count": 3,
   "id": "5c7832de",
   "metadata": {},
   "outputs": [],
   "source": [
    "import pandas as pd"
   ]
  },
  {
   "cell_type": "code",
   "execution_count": null,
   "id": "b89691e2",
   "metadata": {},
   "outputs": [],
   "source": []
  }
 ],
 "metadata": {
  "kernelspec": {
   "display_name": "Python 3 (ipykernel)",
   "language": "python",
   "name": "python3"
  },
  "language_info": {
   "codemirror_mode": {
    "name": "ipython",
    "version": 3
   },
   "file_extension": ".py",
   "mimetype": "text/x-python",
   "name": "python",
   "nbconvert_exporter": "python",
   "pygments_lexer": "ipython3",
   "version": "3.10.9"
  }
 },
 "nbformat": 4,
 "nbformat_minor": 5
}
